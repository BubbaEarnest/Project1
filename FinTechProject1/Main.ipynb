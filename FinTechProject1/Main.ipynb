{
 "cells": [
  {
   "cell_type": "code",
   "execution_count": 19,
   "id": "48d03477-919f-405e-9a38-e43e1429907d",
   "metadata": {},
   "outputs": [],
   "source": [
    "#import return variables from other notebooks\n",
    "%store -r sp500_lower_thirty_cumu_return\n",
    "%store -r sp500_upper_thirty_cumu_return\n",
    "%store -r btc_lower_thirty_cumu_return\n",
    "%store -r btc_upper_thirty_cumu_return\n",
    "%store -r MC_AXG_lower_thirty_cumu_return\n",
    "%store -r MC_AXG_upper_thirty_cumu_return\n",
    "%store -r MC_XAU_lower_thirty_cumu_return\n",
    "%store -r MC_XAU_upper_thirty_cumu_return\n",
    "%store -r house_lower_thirty_cumu_return\n",
    "%store -r house_upper_thirty_cumu_return\n",
    "%store -r south_house_lower_thirty_cumu_return\n",
    "%store -r south_house_upper_thirty_cumu_return"
   ]
  },
  {
   "cell_type": "code",
   "execution_count": 21,
   "id": "9d9e56ae-dd31-4774-821c-173e4c6359d5",
   "metadata": {},
   "outputs": [
    {
     "data": {},
     "metadata": {},
     "output_type": "display_data"
    },
    {
     "data": {
      "application/vnd.holoviews_exec.v0+json": "",
      "text/html": [
       "<div id='2314'>\n",
       "  <div class=\"bk-root\" id=\"245cff6f-dc93-46d8-b45b-b108b466f914\" data-root-id=\"2314\"></div>\n",
       "</div>\n",
       "<script type=\"application/javascript\">(function(root) {\n",
       "  function embed_document(root) {\n",
       "    var docs_json = {\"b822fdd2-e21e-48f6-9d4b-4cd3674bae75\":{\"defs\":[{\"extends\":null,\"module\":null,\"name\":\"ReactiveHTML1\",\"overrides\":[],\"properties\":[]},{\"extends\":null,\"module\":null,\"name\":\"FlexBox1\",\"overrides\":[],\"properties\":[{\"default\":\"flex-start\",\"kind\":null,\"name\":\"align_content\"},{\"default\":\"flex-start\",\"kind\":null,\"name\":\"align_items\"},{\"default\":\"row\",\"kind\":null,\"name\":\"flex_direction\"},{\"default\":\"wrap\",\"kind\":null,\"name\":\"flex_wrap\"},{\"default\":\"flex-start\",\"kind\":null,\"name\":\"justify_content\"}]},{\"extends\":null,\"module\":null,\"name\":\"GridStack1\",\"overrides\":[],\"properties\":[{\"default\":\"warn\",\"kind\":null,\"name\":\"mode\"},{\"default\":null,\"kind\":null,\"name\":\"ncols\"},{\"default\":null,\"kind\":null,\"name\":\"nrows\"},{\"default\":true,\"kind\":null,\"name\":\"allow_resize\"},{\"default\":true,\"kind\":null,\"name\":\"allow_drag\"},{\"default\":[],\"kind\":null,\"name\":\"state\"}]},{\"extends\":null,\"module\":null,\"name\":\"click1\",\"overrides\":[],\"properties\":[{\"default\":\"\",\"kind\":null,\"name\":\"terminal_output\"},{\"default\":\"\",\"kind\":null,\"name\":\"debug_name\"},{\"default\":0,\"kind\":null,\"name\":\"clears\"}]},{\"extends\":null,\"module\":null,\"name\":\"NotificationAreaBase1\",\"overrides\":[],\"properties\":[{\"default\":\"bottom-right\",\"kind\":null,\"name\":\"position\"},{\"default\":0,\"kind\":null,\"name\":\"_clear\"}]},{\"extends\":null,\"module\":null,\"name\":\"NotificationArea1\",\"overrides\":[],\"properties\":[{\"default\":[],\"kind\":null,\"name\":\"notifications\"},{\"default\":\"bottom-right\",\"kind\":null,\"name\":\"position\"},{\"default\":0,\"kind\":null,\"name\":\"_clear\"},{\"default\":[{\"background\":\"#ffc107\",\"icon\":{\"className\":\"fas fa-exclamation-triangle\",\"color\":\"white\",\"tagName\":\"i\"},\"type\":\"warning\"},{\"background\":\"#007bff\",\"icon\":{\"className\":\"fas fa-info-circle\",\"color\":\"white\",\"tagName\":\"i\"},\"type\":\"info\"}],\"kind\":null,\"name\":\"types\"}]},{\"extends\":null,\"module\":null,\"name\":\"Notification\",\"overrides\":[],\"properties\":[{\"default\":null,\"kind\":null,\"name\":\"background\"},{\"default\":3000,\"kind\":null,\"name\":\"duration\"},{\"default\":null,\"kind\":null,\"name\":\"icon\"},{\"default\":\"\",\"kind\":null,\"name\":\"message\"},{\"default\":null,\"kind\":null,\"name\":\"notification_type\"},{\"default\":false,\"kind\":null,\"name\":\"_destroyed\"}]},{\"extends\":null,\"module\":null,\"name\":\"TemplateActions1\",\"overrides\":[],\"properties\":[{\"default\":0,\"kind\":null,\"name\":\"open_modal\"},{\"default\":0,\"kind\":null,\"name\":\"close_modal\"}]},{\"extends\":null,\"module\":null,\"name\":\"MaterialTemplateActions1\",\"overrides\":[],\"properties\":[{\"default\":0,\"kind\":null,\"name\":\"open_modal\"},{\"default\":0,\"kind\":null,\"name\":\"close_modal\"}]}],\"roots\":{\"references\":[{\"attributes\":{},\"id\":\"2363\",\"type\":\"AllLabels\"},{\"attributes\":{\"children\":[{\"id\":\"2383\"},{\"id\":\"2384\"},{\"id\":\"2386\"}],\"margin\":[0,0,0,0],\"name\":\"Column02326\"},\"id\":\"2382\",\"type\":\"Column\"},{\"attributes\":{},\"id\":\"2324\",\"type\":\"CategoricalScale\"},{\"attributes\":{\"tools\":[{\"id\":\"2318\"},{\"id\":\"2335\"},{\"id\":\"2336\"},{\"id\":\"2337\"},{\"id\":\"2338\"},{\"id\":\"2339\"}]},\"id\":\"2341\",\"type\":\"Toolbar\"},{\"attributes\":{},\"id\":\"2339\",\"type\":\"ResetTool\"},{\"attributes\":{\"overlay\":{\"id\":\"2340\"}},\"id\":\"2338\",\"type\":\"BoxZoomTool\"},{\"attributes\":{},\"id\":\"2378\",\"type\":\"UnionRenderers\"},{\"attributes\":{\"children\":[{\"id\":\"2315\"},{\"id\":\"2319\"},{\"id\":\"2381\"},{\"id\":\"2382\"}],\"margin\":[0,0,0,0],\"name\":\"Row02318\"},\"id\":\"2314\",\"type\":\"Row\"},{\"attributes\":{\"margin\":[5,5,5,5],\"name\":\"HSpacer02327\",\"sizing_mode\":\"stretch_width\"},\"id\":\"2315\",\"type\":\"Spacer\"},{\"attributes\":{\"children\":[{\"id\":\"2385\"}],\"css_classes\":[\"panel-widget-box\"],\"margin\":[5,5,5,5],\"name\":\"WidgetBox02319\"},\"id\":\"2384\",\"type\":\"Column\"},{\"attributes\":{},\"id\":\"2326\",\"type\":\"LinearScale\"},{\"attributes\":{\"margin\":[5,5,5,5],\"name\":\"VSpacer02324\",\"sizing_mode\":\"stretch_height\"},\"id\":\"2383\",\"type\":\"Spacer\"},{\"attributes\":{},\"id\":\"2360\",\"type\":\"AllLabels\"},{\"attributes\":{\"data\":{\"Investments\":[\"S&P500\",\"BTC\",\"Silver\",\"Gold\",\"Northeastern House\",\"Southern House\"],\"value\":{\"__ndarray__\":\"b7/gHlnjLkFjwhGBBaB4QcqVYsLk8jtBqJCbhrU/MUFJJDSLvkI0QdEIG7fGByNB\",\"dtype\":\"float64\",\"order\":\"little\",\"shape\":[6]}},\"selected\":{\"id\":\"2349\"},\"selection_policy\":{\"id\":\"2378\"}},\"id\":\"2348\",\"type\":\"ColumnDataSource\"},{\"attributes\":{\"end\":28341040.537756536,\"reset_end\":28341040.537756536,\"reset_start\":0.0,\"tags\":[[[\"value\",\"value\",null]]]},\"id\":\"2317\",\"type\":\"Range1d\"},{\"attributes\":{\"margin\":[5,5,5,5],\"name\":\"VSpacer02325\",\"sizing_mode\":\"stretch_height\"},\"id\":\"2386\",\"type\":\"Spacer\"},{\"attributes\":{},\"id\":\"2335\",\"type\":\"SaveTool\"},{\"attributes\":{\"margin\":[20,20,20,20],\"min_width\":250,\"options\":[\"Maximum Returns\",\"Minimum Returns\"],\"title\":\"Returns\",\"value\":\"Maximum Returns\",\"width\":250},\"id\":\"2385\",\"type\":\"panel.models.widgets.CustomSelect\"},{\"attributes\":{},\"id\":\"2337\",\"type\":\"WheelZoomTool\"},{\"attributes\":{\"bottom_units\":\"screen\",\"coordinates\":null,\"fill_alpha\":0.5,\"fill_color\":\"lightgrey\",\"group\":null,\"left_units\":\"screen\",\"level\":\"overlay\",\"line_alpha\":1.0,\"line_color\":\"black\",\"line_dash\":[4,4],\"line_width\":2,\"right_units\":\"screen\",\"syncable\":false,\"top_units\":\"screen\"},\"id\":\"2340\",\"type\":\"BoxAnnotation\"},{\"attributes\":{\"factors\":[\"S&P500\",\"BTC\",\"Silver\",\"Gold\",\"Northeastern House\",\"Southern House\"],\"tags\":[[[\"Investments\",\"Investments\",null]]]},\"id\":\"2316\",\"type\":\"FactorRange\"},{\"attributes\":{},\"id\":\"2332\",\"type\":\"BasicTicker\"},{\"attributes\":{\"callback\":null,\"renderers\":[{\"id\":\"2354\"}],\"tags\":[\"hv_created\"],\"tooltips\":[[\"Investments\",\"@{Investments}\"],[\"value\",\"@{value}\"]]},\"id\":\"2318\",\"type\":\"HoverTool\"},{\"attributes\":{\"coordinates\":null,\"data_source\":{\"id\":\"2348\"},\"glyph\":{\"id\":\"2351\"},\"group\":null,\"hover_glyph\":null,\"muted_glyph\":{\"id\":\"2353\"},\"nonselection_glyph\":{\"id\":\"2352\"},\"selection_glyph\":{\"id\":\"2356\"},\"view\":{\"id\":\"2355\"}},\"id\":\"2354\",\"type\":\"GlyphRenderer\"},{\"attributes\":{\"fill_alpha\":{\"value\":0.1},\"fill_color\":{\"value\":\"#30a2da\"},\"hatch_alpha\":{\"value\":0.1},\"hatch_color\":{\"value\":\"#30a2da\"},\"line_alpha\":{\"value\":0.1},\"top\":{\"field\":\"value\"},\"width\":{\"value\":0.8},\"x\":{\"field\":\"Investments\"}},\"id\":\"2352\",\"type\":\"VBar\"},{\"attributes\":{},\"id\":\"2329\",\"type\":\"CategoricalTicker\"},{\"attributes\":{\"fill_color\":{\"value\":\"#30a2da\"},\"hatch_color\":{\"value\":\"#30a2da\"},\"top\":{\"field\":\"value\"},\"width\":{\"value\":0.8},\"x\":{\"field\":\"Investments\"}},\"id\":\"2351\",\"type\":\"VBar\"},{\"attributes\":{\"margin\":[5,5,5,5],\"name\":\"HSpacer02328\",\"sizing_mode\":\"stretch_width\"},\"id\":\"2381\",\"type\":\"Spacer\"},{\"attributes\":{\"fill_alpha\":{\"value\":0.2},\"fill_color\":{\"value\":\"#30a2da\"},\"hatch_alpha\":{\"value\":0.2},\"hatch_color\":{\"value\":\"#30a2da\"},\"line_alpha\":{\"value\":0.2},\"top\":{\"field\":\"value\"},\"width\":{\"value\":0.8},\"x\":{\"field\":\"Investments\"}},\"id\":\"2353\",\"type\":\"VBar\"},{\"attributes\":{},\"id\":\"2336\",\"type\":\"PanTool\"},{\"attributes\":{\"axis_label\":\"Investment Choices\",\"coordinates\":null,\"formatter\":{\"id\":\"2359\"},\"group\":null,\"major_label_policy\":{\"id\":\"2360\"},\"ticker\":{\"id\":\"2329\"}},\"id\":\"2328\",\"type\":\"CategoricalAxis\"},{\"attributes\":{\"axis\":{\"id\":\"2328\"},\"coordinates\":null,\"grid_line_color\":null,\"group\":null,\"ticker\":null},\"id\":\"2330\",\"type\":\"Grid\"},{\"attributes\":{\"below\":[{\"id\":\"2328\"}],\"center\":[{\"id\":\"2330\"},{\"id\":\"2334\"}],\"height\":800,\"left\":[{\"id\":\"2331\"}],\"margin\":[5,5,5,5],\"min_border_bottom\":10,\"min_border_left\":10,\"min_border_right\":10,\"min_border_top\":10,\"renderers\":[{\"id\":\"2354\"}],\"sizing_mode\":\"fixed\",\"title\":{\"id\":\"2320\"},\"toolbar\":{\"id\":\"2341\"},\"width\":1000,\"x_range\":{\"id\":\"2316\"},\"x_scale\":{\"id\":\"2324\"},\"y_range\":{\"id\":\"2317\"},\"y_scale\":{\"id\":\"2326\"}},\"id\":\"2319\",\"subtype\":\"Figure\",\"type\":\"Plot\"},{\"attributes\":{\"client_comm_id\":\"f190a0bd317a4118896110bddbe410d6\",\"comm_id\":\"758a5037ccf84c35a1a284e10dd11c15\",\"plot_id\":\"2314\"},\"id\":\"2414\",\"type\":\"panel.models.comm_manager.CommManager\"},{\"attributes\":{\"format\":\"%.0f\"},\"id\":\"2357\",\"type\":\"PrintfTickFormatter\"},{\"attributes\":{\"source\":{\"id\":\"2348\"}},\"id\":\"2355\",\"type\":\"CDSView\"},{\"attributes\":{\"coordinates\":null,\"group\":null,\"text\":\"Possible Return Scenarios from $350,000 Investment after 5 Years\",\"text_color\":\"black\",\"text_font_size\":\"12pt\"},\"id\":\"2320\",\"type\":\"Title\"},{\"attributes\":{\"axis\":{\"id\":\"2331\"},\"coordinates\":null,\"dimension\":1,\"grid_line_color\":null,\"group\":null,\"ticker\":null},\"id\":\"2334\",\"type\":\"Grid\"},{\"attributes\":{},\"id\":\"2359\",\"type\":\"CategoricalTickFormatter\"},{\"attributes\":{},\"id\":\"2349\",\"type\":\"Selection\"},{\"attributes\":{\"bottom\":{\"value\":0},\"fill_alpha\":{\"value\":1.0},\"fill_color\":{\"value\":\"#30a2da\"},\"hatch_alpha\":{\"value\":1.0},\"hatch_color\":{\"value\":\"#30a2da\"},\"hatch_scale\":{\"value\":12.0},\"hatch_weight\":{\"value\":1.0},\"line_alpha\":{\"value\":1.0},\"line_cap\":{\"value\":\"butt\"},\"line_color\":{\"value\":\"black\"},\"line_dash\":{\"value\":[]},\"line_dash_offset\":{\"value\":0},\"line_join\":{\"value\":\"bevel\"},\"line_width\":{\"value\":1},\"top\":{\"field\":\"value\"},\"width\":{\"value\":0.8},\"x\":{\"field\":\"Investments\"}},\"id\":\"2356\",\"type\":\"VBar\"},{\"attributes\":{\"axis_label\":\"Retuns\",\"coordinates\":null,\"formatter\":{\"id\":\"2357\"},\"group\":null,\"major_label_policy\":{\"id\":\"2363\"},\"ticker\":{\"id\":\"2332\"}},\"id\":\"2331\",\"type\":\"LinearAxis\"}],\"root_ids\":[\"2314\",\"2414\"]},\"title\":\"Bokeh Application\",\"version\":\"2.4.3\"}};\n",
       "    var render_items = [{\"docid\":\"b822fdd2-e21e-48f6-9d4b-4cd3674bae75\",\"root_ids\":[\"2314\"],\"roots\":{\"2314\":\"245cff6f-dc93-46d8-b45b-b108b466f914\"}}];\n",
       "    root.Bokeh.embed.embed_items_notebook(docs_json, render_items);\n",
       "  }\n",
       "  if (root.Bokeh !== undefined && root.Bokeh.Panel !== undefined) {\n",
       "    embed_document(root);\n",
       "  } else {\n",
       "    var attempts = 0;\n",
       "    var timer = setInterval(function(root) {\n",
       "      if (root.Bokeh !== undefined && root.Bokeh.Panel !== undefined) {\n",
       "        clearInterval(timer);\n",
       "        embed_document(root);\n",
       "      } else if (document.readyState == \"complete\") {\n",
       "        attempts++;\n",
       "        if (attempts > 200) {\n",
       "          clearInterval(timer);\n",
       "          console.log(\"Bokeh: ERROR: Unable to run BokehJS code because BokehJS library is missing\");\n",
       "        }\n",
       "      }\n",
       "    }, 25, root)\n",
       "  }\n",
       "})(window);</script>"
      ],
      "text/plain": [
       ":DynamicMap   [Returns]\n",
       "   :Bars   [Investments]   (value)"
      ]
     },
     "execution_count": 21,
     "metadata": {
      "application/vnd.holoviews_exec.v0+json": {
       "id": "2314"
      }
     },
     "output_type": "execute_result"
    }
   ],
   "source": [
    "#Graph Bar Chart to compare Maximum and Minimum returns of each Investment choice\n",
    "\n",
    "import pandas as pd\n",
    "import hvplot.pandas\n",
    "\n",
    "possible_df = pd.DataFrame({\n",
    "    'Investments': ['S&P500', 'BTC', 'Silver', 'Gold', 'Northeastern House', 'Southern House'],\n",
    "    'Maximum Returns': [sp500_upper_thirty_cumu_return, btc_upper_thirty_cumu_return, MC_AXG_upper_thirty_cumu_return, MC_XAU_upper_thirty_cumu_return, house_upper_thirty_cumu_return, south_house_upper_thirty_cumu_return],\n",
    "    'Minimum Returns': [sp500_lower_thirty_cumu_return, btc_lower_thirty_cumu_return, MC_AXG_lower_thirty_cumu_return, MC_XAU_lower_thirty_cumu_return, house_lower_thirty_cumu_return,south_house_lower_thirty_cumu_return ]\n",
    "})\n",
    "\n",
    "possible_df_melt = pd.melt(possible_df, id_vars=['Investments'], var_name='Returns')\n",
    "\n",
    "possible_bar_plot = possible_df_melt.hvplot.bar(x='Investments', y='value', yformatter='%.0f', groupby='Returns',\n",
    "                              title='Possible Return Scenarios from $350,000 Investment after 5 Years', xlabel='Investment Choices',\n",
    "                              ylabel='Retuns', legend='top',\n",
    "                              height=800, width=1000)\n",
    "\n",
    "\n",
    "possible_bar_plot"
   ]
  },
  {
   "cell_type": "code",
   "execution_count": null,
   "id": "b2bf55cc-a322-4420-96c0-9395ef8ea871",
   "metadata": {},
   "outputs": [],
   "source": []
  },
  {
   "cell_type": "code",
   "execution_count": null,
   "id": "073218e2-3e1f-4f11-bdd6-d7ad61a5bc8c",
   "metadata": {},
   "outputs": [],
   "source": []
  }
 ],
 "metadata": {
  "kernelspec": {
   "display_name": "Python 3 (ipykernel)",
   "language": "python",
   "name": "python3"
  },
  "language_info": {
   "codemirror_mode": {
    "name": "ipython",
    "version": 3
   },
   "file_extension": ".py",
   "mimetype": "text/x-python",
   "name": "python",
   "nbconvert_exporter": "python",
   "pygments_lexer": "ipython3",
   "version": "3.9.13"
  }
 },
 "nbformat": 4,
 "nbformat_minor": 5
}
